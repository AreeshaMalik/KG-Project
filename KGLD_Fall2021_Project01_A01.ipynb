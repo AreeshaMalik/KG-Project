{
  "nbformat": 4,
  "nbformat_minor": 0,
  "metadata": {
    "colab": {
      "name": "KGLD-Fall2021-Project01-A01.ipynb",
      "provenance": [],
      "collapsed_sections": []
    },
    "kernelspec": {
      "name": "python3",
      "display_name": "Python 3"
    },
    "language_info": {
      "name": "python"
    }
  },
  "cells": [
    {
      "cell_type": "markdown",
      "metadata": {
        "id": "rc8tdzc1a8Ze"
      },
      "source": [
        "# Olympics 2021 Knowledge Graph Using OwlReady\n",
        "\n",
        "i180600 - Areesha Maqsood\n",
        "\n",
        "i180432 - Shujaa Marwat\n",
        "\n",
        "i180557 - Abdul Mannan"
      ]
    },
    {
      "cell_type": "code",
      "metadata": {
        "id": "4G3r4a6xa6tu"
      },
      "source": [
        "import pandas as pd\n",
        "import numpy as np"
      ],
      "execution_count": 1,
      "outputs": []
    },
    {
      "cell_type": "code",
      "metadata": {
        "id": "D0b4qazFKKO9",
        "colab": {
          "base_uri": "https://localhost:8080/"
        },
        "outputId": "a01edb69-18d2-4260-dcaa-90d2d166400a"
      },
      "source": [
        "!pip install owlready2\n",
        "from owlready2 import *"
      ],
      "execution_count": 2,
      "outputs": [
        {
          "output_type": "stream",
          "name": "stdout",
          "text": [
            "Collecting owlready2\n",
            "  Downloading Owlready2-0.35.tar.gz (23.8 MB)\n",
            "\u001b[K     |████████████████████████████████| 23.8 MB 80.0 MB/s \n",
            "\u001b[?25hBuilding wheels for collected packages: owlready2\n",
            "  Building wheel for owlready2 (setup.py) ... \u001b[?25l\u001b[?25hdone\n",
            "  Created wheel for owlready2: filename=Owlready2-0.35-cp37-cp37m-linux_x86_64.whl size=20432824 sha256=b61fb318e080dcd6a72270a1c9a5e7bb41a68b2270b15823d0d90babd02f91a4\n",
            "  Stored in directory: /root/.cache/pip/wheels/a6/85/8f/4f254dc1d3b7901c23004544f7214748607d8b0c2c02b3c868\n",
            "Successfully built owlready2\n",
            "Installing collected packages: owlready2\n",
            "Successfully installed owlready2-0.35\n"
          ]
        }
      ]
    },
    {
      "cell_type": "markdown",
      "metadata": {
        "id": "V1M-jMmNQOgY"
      },
      "source": [
        "Mounting the drive"
      ]
    },
    {
      "cell_type": "code",
      "metadata": {
        "id": "dpqxrbnrQOIG",
        "colab": {
          "base_uri": "https://localhost:8080/"
        },
        "outputId": "ce9c02e1-0d8c-4e5a-bc36-a48d3866a423"
      },
      "source": [
        "from google.colab import drive\n",
        "drive.mount('/content/drive', force_remount=True)"
      ],
      "execution_count": 3,
      "outputs": [
        {
          "output_type": "stream",
          "name": "stdout",
          "text": [
            "Mounted at /content/drive\n"
          ]
        }
      ]
    },
    {
      "cell_type": "markdown",
      "metadata": {
        "id": "ZrzntbhxLBop"
      },
      "source": [
        "Creating the Onotology"
      ]
    },
    {
      "cell_type": "code",
      "metadata": {
        "id": "8SSizyJPKgyk"
      },
      "source": [
        "# onto_olympics= get_ontology(\"https://github.com/AreeshaMalik/KG-Project/blob/main/ASMR.owl\")\n",
        "onto_olympics= get_ontology(\"/content/drive/MyDrive/KG Project/ASMR_7.owl\")"
      ],
      "execution_count": 4,
      "outputs": []
    },
    {
      "cell_type": "markdown",
      "metadata": {
        "id": "pYtdLnF-LPve"
      },
      "source": [
        "Loading onotolgy from Owl file"
      ]
    },
    {
      "cell_type": "code",
      "metadata": {
        "colab": {
          "base_uri": "https://localhost:8080/"
        },
        "id": "ZOR1Y8IfK7W6",
        "outputId": "51356e7b-1eca-4087-af83-cb9e89455d55"
      },
      "source": [
        "onto_olympics.load()"
      ],
      "execution_count": 5,
      "outputs": [
        {
          "output_type": "execute_result",
          "data": {
            "text/plain": [
              "get_ontology(\"http://www.semanticweb.org/areeshamaqsood/ontologies/2021/11/untitled-ontology-4#\")"
            ]
          },
          "metadata": {},
          "execution_count": 5
        }
      ]
    },
    {
      "cell_type": "markdown",
      "metadata": {
        "id": "3ILr-bmsxzGB"
      },
      "source": [
        "Testing if our dataset is loaded correctly or not"
      ]
    },
    {
      "cell_type": "code",
      "metadata": {
        "colab": {
          "base_uri": "https://localhost:8080/"
        },
        "id": "xD_vHH3CMUiy",
        "outputId": "a4136b2c-31c6-49ee-a873-5024e3abf22a"
      },
      "source": [
        "list(onto_olympics.classes())"
      ],
      "execution_count": 6,
      "outputs": [
        {
          "output_type": "execute_result",
          "data": {
            "text/plain": [
              "[ASMR_7.Athlete,\n",
              " ASMR_7.National_Olympic_Committee,\n",
              " ASMR_7.Coach,\n",
              " ASMR_7.sports_discipline,\n",
              " ASMR_7.Team,\n",
              " ASMR_7.Category,\n",
              " ASMR_7.Award]"
            ]
          },
          "metadata": {},
          "execution_count": 6
        }
      ]
    },
    {
      "cell_type": "markdown",
      "source": [
        "Adding individuals directly without a class"
      ],
      "metadata": {
        "id": "A_Q-HOZKyhBB"
      }
    },
    {
      "cell_type": "code",
      "source": [
        "# owl.Thing('Men')\n",
        "# with onto_olympics:\n",
        "#   Thing(\"AreeshaIndie\")\n",
        "list(Thing.instances())"
      ],
      "metadata": {
        "colab": {
          "base_uri": "https://localhost:8080/"
        },
        "id": "GZq9_PuWsS-P",
        "outputId": "c6804a2c-e997-46de-e4d9-28b9e9176577"
      },
      "execution_count": 7,
      "outputs": [
        {
          "output_type": "execute_result",
          "data": {
            "text/plain": [
              "[ASMR_7.Bronze_Medal, ASMR_7.Gold_Medal, ASMR_7.Silver_Medal, ASMR_7.sada]"
            ]
          },
          "metadata": {},
          "execution_count": 7
        }
      ]
    },
    {
      "cell_type": "code",
      "metadata": {
        "colab": {
          "base_uri": "https://localhost:8080/"
        },
        "id": "3CV-CfbfW9Ly",
        "outputId": "f05b502a-1882-4e62-baf4-9a1a2f42babd"
      },
      "source": [
        "list(onto_olympics.data_properties())"
      ],
      "execution_count": 8,
      "outputs": [
        {
          "output_type": "execute_result",
          "data": {
            "text/plain": [
              "[ASMR_7.femaleAthletes,\n",
              " ASMR_7.maleAthletes,\n",
              " ASMR_7.rankByGold,\n",
              " ASMR_7.rankByTotalMedals,\n",
              " ASMR_7.teamName,\n",
              " ASMR_7.totalAthletes,\n",
              " ASMR_7.wonBronzeMedals,\n",
              " ASMR_7.wonGoldMedals,\n",
              " ASMR_7.wonSilverMedals]"
            ]
          },
          "metadata": {},
          "execution_count": 8
        }
      ]
    },
    {
      "cell_type": "code",
      "metadata": {
        "colab": {
          "base_uri": "https://localhost:8080/"
        },
        "id": "qADqonC7XSTN",
        "outputId": "989bf908-d382-4579-ec2e-147d8c023763"
      },
      "source": [
        "list(onto_olympics.object_properties())"
      ],
      "execution_count": 9,
      "outputs": [
        {
          "output_type": "execute_result",
          "data": {
            "text/plain": [
              "[ASMR_7.athletePlaysForNOC,\n",
              " ASMR_7.coachesDiscipline,\n",
              " ASMR_7.disciplineCoachedBy,\n",
              " ASMR_7.coachesForNOC,\n",
              " ASMR_7.coachesTeam,\n",
              " ASMR_7.teamCoachedBy,\n",
              " ASMR_7.disciplinePlayedByAthlete,\n",
              " ASMR_7.playsDiscipline,\n",
              " ASMR_7.disciplinePlayedByTeam,\n",
              " ASMR_7.teamPlaysDiscipline,\n",
              " ASMR_7.hasAthlete,\n",
              " ASMR_7.hasCoach,\n",
              " ASMR_7.hasTeam,\n",
              " ASMR_7.isPlayedByTeam,\n",
              " ASMR_7.playsCategory,\n",
              " ASMR_7.receivedMedal,\n",
              " ASMR_7.teamPlaysForNOC]"
            ]
          },
          "metadata": {},
          "execution_count": 9
        }
      ]
    },
    {
      "cell_type": "code",
      "metadata": {
        "colab": {
          "base_uri": "https://localhost:8080/"
        },
        "id": "uA3iTmHGXklY",
        "outputId": "f1969336-5f17-46a7-fc20-38a853add085"
      },
      "source": [
        "list(onto_olympics.disjoints())"
      ],
      "execution_count": 10,
      "outputs": [
        {
          "output_type": "execute_result",
          "data": {
            "text/plain": [
              "[AllDisjoint([ASMR_7.Athlete, ASMR_7.Team]),\n",
              " AllDisjoint([ASMR_7.Coach, ASMR_7.Team])]"
            ]
          },
          "metadata": {},
          "execution_count": 10
        }
      ]
    },
    {
      "cell_type": "markdown",
      "metadata": {
        "id": "7sNvXgkVbkbI"
      },
      "source": [
        "Loading all the xlsx files here taken from Kaggle"
      ]
    },
    {
      "cell_type": "code",
      "metadata": {
        "colab": {
          "base_uri": "https://localhost:8080/",
          "height": 424
        },
        "id": "SRZVrO23YLCC",
        "outputId": "2afd9966-f01e-4bdd-c330-88e156928191"
      },
      "source": [
        "athletes_xlsx = pd.read_excel(\"/content/drive/MyDrive/KG Project/Athletes.xlsx\")\n",
        "# athletes_xlsx = athletes_xlsx.columns.str.replace(' ','_')\n",
        "athletes_xlsx"
      ],
      "execution_count": 11,
      "outputs": [
        {
          "output_type": "execute_result",
          "data": {
            "text/html": [
              "<div>\n",
              "<style scoped>\n",
              "    .dataframe tbody tr th:only-of-type {\n",
              "        vertical-align: middle;\n",
              "    }\n",
              "\n",
              "    .dataframe tbody tr th {\n",
              "        vertical-align: top;\n",
              "    }\n",
              "\n",
              "    .dataframe thead th {\n",
              "        text-align: right;\n",
              "    }\n",
              "</style>\n",
              "<table border=\"1\" class=\"dataframe\">\n",
              "  <thead>\n",
              "    <tr style=\"text-align: right;\">\n",
              "      <th></th>\n",
              "      <th>Name</th>\n",
              "      <th>NOC</th>\n",
              "      <th>Discipline</th>\n",
              "    </tr>\n",
              "  </thead>\n",
              "  <tbody>\n",
              "    <tr>\n",
              "      <th>0</th>\n",
              "      <td>AALERUD Katrine</td>\n",
              "      <td>Norway</td>\n",
              "      <td>Cycling Road</td>\n",
              "    </tr>\n",
              "    <tr>\n",
              "      <th>1</th>\n",
              "      <td>ABAD Nestor</td>\n",
              "      <td>Spain</td>\n",
              "      <td>Artistic Gymnastics</td>\n",
              "    </tr>\n",
              "    <tr>\n",
              "      <th>2</th>\n",
              "      <td>ABAGNALE Giovanni</td>\n",
              "      <td>Italy</td>\n",
              "      <td>Rowing</td>\n",
              "    </tr>\n",
              "    <tr>\n",
              "      <th>3</th>\n",
              "      <td>ABALDE Alberto</td>\n",
              "      <td>Spain</td>\n",
              "      <td>Basketball</td>\n",
              "    </tr>\n",
              "    <tr>\n",
              "      <th>4</th>\n",
              "      <td>ABALDE Tamara</td>\n",
              "      <td>Spain</td>\n",
              "      <td>Basketball</td>\n",
              "    </tr>\n",
              "    <tr>\n",
              "      <th>...</th>\n",
              "      <td>...</td>\n",
              "      <td>...</td>\n",
              "      <td>...</td>\n",
              "    </tr>\n",
              "    <tr>\n",
              "      <th>11080</th>\n",
              "      <td>ZWICKER Martin Detlef</td>\n",
              "      <td>Germany</td>\n",
              "      <td>Hockey</td>\n",
              "    </tr>\n",
              "    <tr>\n",
              "      <th>11081</th>\n",
              "      <td>ZWOLINSKA Klaudia</td>\n",
              "      <td>Poland</td>\n",
              "      <td>Canoe Slalom</td>\n",
              "    </tr>\n",
              "    <tr>\n",
              "      <th>11082</th>\n",
              "      <td>ZYKOVA Yulia</td>\n",
              "      <td>ROC</td>\n",
              "      <td>Shooting</td>\n",
              "    </tr>\n",
              "    <tr>\n",
              "      <th>11083</th>\n",
              "      <td>ZYUZINA Ekaterina</td>\n",
              "      <td>ROC</td>\n",
              "      <td>Sailing</td>\n",
              "    </tr>\n",
              "    <tr>\n",
              "      <th>11084</th>\n",
              "      <td>ZYZANSKA Sylwia</td>\n",
              "      <td>Poland</td>\n",
              "      <td>Archery</td>\n",
              "    </tr>\n",
              "  </tbody>\n",
              "</table>\n",
              "<p>11085 rows × 3 columns</p>\n",
              "</div>"
            ],
            "text/plain": [
              "                        Name      NOC           Discipline\n",
              "0            AALERUD Katrine   Norway         Cycling Road\n",
              "1                ABAD Nestor    Spain  Artistic Gymnastics\n",
              "2          ABAGNALE Giovanni    Italy               Rowing\n",
              "3             ABALDE Alberto    Spain           Basketball\n",
              "4              ABALDE Tamara    Spain           Basketball\n",
              "...                      ...      ...                  ...\n",
              "11080  ZWICKER Martin Detlef  Germany               Hockey\n",
              "11081      ZWOLINSKA Klaudia   Poland         Canoe Slalom\n",
              "11082           ZYKOVA Yulia      ROC             Shooting\n",
              "11083      ZYUZINA Ekaterina      ROC              Sailing\n",
              "11084        ZYZANSKA Sylwia   Poland              Archery\n",
              "\n",
              "[11085 rows x 3 columns]"
            ]
          },
          "metadata": {},
          "execution_count": 11
        }
      ]
    },
    {
      "cell_type": "markdown",
      "source": [
        "Reading Team.xlsx"
      ],
      "metadata": {
        "id": "N40rGhKbAkeR"
      }
    },
    {
      "cell_type": "code",
      "source": [
        "teams_xlsx = pd.read_excel(\"/content/drive/MyDrive/KG Project/Teams.xlsx\")\n",
        "teams_xlsx"
      ],
      "metadata": {
        "colab": {
          "base_uri": "https://localhost:8080/",
          "height": 424
        },
        "id": "KQPE2Kp5AjzN",
        "outputId": "131cadd9-0270-48a1-ed96-0d1ff06d14df"
      },
      "execution_count": 12,
      "outputs": [
        {
          "output_type": "execute_result",
          "data": {
            "text/html": [
              "<div>\n",
              "<style scoped>\n",
              "    .dataframe tbody tr th:only-of-type {\n",
              "        vertical-align: middle;\n",
              "    }\n",
              "\n",
              "    .dataframe tbody tr th {\n",
              "        vertical-align: top;\n",
              "    }\n",
              "\n",
              "    .dataframe thead th {\n",
              "        text-align: right;\n",
              "    }\n",
              "</style>\n",
              "<table border=\"1\" class=\"dataframe\">\n",
              "  <thead>\n",
              "    <tr style=\"text-align: right;\">\n",
              "      <th></th>\n",
              "      <th>Name</th>\n",
              "      <th>Discipline</th>\n",
              "      <th>NOC</th>\n",
              "      <th>Event</th>\n",
              "    </tr>\n",
              "  </thead>\n",
              "  <tbody>\n",
              "    <tr>\n",
              "      <th>0</th>\n",
              "      <td>Zambia</td>\n",
              "      <td>Football</td>\n",
              "      <td>Zambia</td>\n",
              "      <td>Women</td>\n",
              "    </tr>\n",
              "    <tr>\n",
              "      <th>1</th>\n",
              "      <td>Vietnam</td>\n",
              "      <td>Archery</td>\n",
              "      <td>Vietnam</td>\n",
              "      <td>Mixed Team</td>\n",
              "    </tr>\n",
              "    <tr>\n",
              "      <th>2</th>\n",
              "      <td>Venezuela</td>\n",
              "      <td>Volleyball</td>\n",
              "      <td>Venezuela</td>\n",
              "      <td>Men</td>\n",
              "    </tr>\n",
              "    <tr>\n",
              "      <th>3</th>\n",
              "      <td>Uzbekistan</td>\n",
              "      <td>Rhythmic Gymnastics</td>\n",
              "      <td>Uzbekistan</td>\n",
              "      <td>Group All-Around</td>\n",
              "    </tr>\n",
              "    <tr>\n",
              "      <th>4</th>\n",
              "      <td>United States</td>\n",
              "      <td>3x3 Basketball</td>\n",
              "      <td>United States of America</td>\n",
              "      <td>Women</td>\n",
              "    </tr>\n",
              "    <tr>\n",
              "      <th>...</th>\n",
              "      <td>...</td>\n",
              "      <td>...</td>\n",
              "      <td>...</td>\n",
              "      <td>...</td>\n",
              "    </tr>\n",
              "    <tr>\n",
              "      <th>738</th>\n",
              "      <td>Argentina</td>\n",
              "      <td>Hockey</td>\n",
              "      <td>Argentina</td>\n",
              "      <td>Women</td>\n",
              "    </tr>\n",
              "    <tr>\n",
              "      <th>739</th>\n",
              "      <td>Argentina</td>\n",
              "      <td>Rugby Sevens</td>\n",
              "      <td>Argentina</td>\n",
              "      <td>Men</td>\n",
              "    </tr>\n",
              "    <tr>\n",
              "      <th>740</th>\n",
              "      <td>Argentina</td>\n",
              "      <td>Volleyball</td>\n",
              "      <td>Argentina</td>\n",
              "      <td>Men</td>\n",
              "    </tr>\n",
              "    <tr>\n",
              "      <th>741</th>\n",
              "      <td>Argentina</td>\n",
              "      <td>Volleyball</td>\n",
              "      <td>Argentina</td>\n",
              "      <td>Women</td>\n",
              "    </tr>\n",
              "    <tr>\n",
              "      <th>742</th>\n",
              "      <td>Angola</td>\n",
              "      <td>Handball</td>\n",
              "      <td>Angola</td>\n",
              "      <td>Women</td>\n",
              "    </tr>\n",
              "  </tbody>\n",
              "</table>\n",
              "<p>743 rows × 4 columns</p>\n",
              "</div>"
            ],
            "text/plain": [
              "              Name  ...             Event\n",
              "0           Zambia  ...             Women\n",
              "1          Vietnam  ...        Mixed Team\n",
              "2        Venezuela  ...               Men\n",
              "3       Uzbekistan  ...  Group All-Around\n",
              "4    United States  ...             Women\n",
              "..             ...  ...               ...\n",
              "738      Argentina  ...             Women\n",
              "739      Argentina  ...               Men\n",
              "740      Argentina  ...               Men\n",
              "741      Argentina  ...             Women\n",
              "742         Angola  ...             Women\n",
              "\n",
              "[743 rows x 4 columns]"
            ]
          },
          "metadata": {},
          "execution_count": 12
        }
      ]
    },
    {
      "cell_type": "code",
      "source": [
        "coaches_xlsx = pd.read_excel(\"/content/drive/MyDrive/KG Project/Coaches.xlsx\")\n",
        "coaches_xlsx"
      ],
      "metadata": {
        "colab": {
          "base_uri": "https://localhost:8080/",
          "height": 424
        },
        "id": "DCC9a9j01kAE",
        "outputId": "90de6af9-b5f1-4e7f-c6c5-f99894bb49ca"
      },
      "execution_count": 13,
      "outputs": [
        {
          "output_type": "execute_result",
          "data": {
            "text/html": [
              "<div>\n",
              "<style scoped>\n",
              "    .dataframe tbody tr th:only-of-type {\n",
              "        vertical-align: middle;\n",
              "    }\n",
              "\n",
              "    .dataframe tbody tr th {\n",
              "        vertical-align: top;\n",
              "    }\n",
              "\n",
              "    .dataframe thead th {\n",
              "        text-align: right;\n",
              "    }\n",
              "</style>\n",
              "<table border=\"1\" class=\"dataframe\">\n",
              "  <thead>\n",
              "    <tr style=\"text-align: right;\">\n",
              "      <th></th>\n",
              "      <th>Name</th>\n",
              "      <th>NOC</th>\n",
              "      <th>Discipline</th>\n",
              "      <th>Event</th>\n",
              "    </tr>\n",
              "  </thead>\n",
              "  <tbody>\n",
              "    <tr>\n",
              "      <th>0</th>\n",
              "      <td>BRUN Aristide</td>\n",
              "      <td>Austria</td>\n",
              "      <td>Artistic Swimming</td>\n",
              "      <td>NaN</td>\n",
              "    </tr>\n",
              "    <tr>\n",
              "      <th>1</th>\n",
              "      <td>BURLANDO Giovanna</td>\n",
              "      <td>Italy</td>\n",
              "      <td>Artistic Swimming</td>\n",
              "      <td>NaN</td>\n",
              "    </tr>\n",
              "    <tr>\n",
              "      <th>2</th>\n",
              "      <td>CHIARI Simona</td>\n",
              "      <td>San Marino</td>\n",
              "      <td>Artistic Swimming</td>\n",
              "      <td>NaN</td>\n",
              "    </tr>\n",
              "    <tr>\n",
              "      <th>3</th>\n",
              "      <td>CRESPI JAUME Margalida</td>\n",
              "      <td>Colombia</td>\n",
              "      <td>Artistic Swimming</td>\n",
              "      <td>NaN</td>\n",
              "    </tr>\n",
              "    <tr>\n",
              "      <th>4</th>\n",
              "      <td>DIDENKO Natalia</td>\n",
              "      <td>Spain</td>\n",
              "      <td>Artistic Swimming</td>\n",
              "      <td>NaN</td>\n",
              "    </tr>\n",
              "    <tr>\n",
              "      <th>...</th>\n",
              "      <td>...</td>\n",
              "      <td>...</td>\n",
              "      <td>...</td>\n",
              "      <td>...</td>\n",
              "    </tr>\n",
              "    <tr>\n",
              "      <th>389</th>\n",
              "      <td>MIHAILOVIC Predrag</td>\n",
              "      <td>Australia</td>\n",
              "      <td>Water Polo</td>\n",
              "      <td>Women</td>\n",
              "    </tr>\n",
              "    <tr>\n",
              "      <th>390</th>\n",
              "      <td>MOTOMIYA Makihiro</td>\n",
              "      <td>Japan</td>\n",
              "      <td>Water Polo</td>\n",
              "      <td>Women</td>\n",
              "    </tr>\n",
              "    <tr>\n",
              "      <th>391</th>\n",
              "      <td>OCA GAIA Miguel Angel</td>\n",
              "      <td>Spain</td>\n",
              "      <td>Water Polo</td>\n",
              "      <td>Women</td>\n",
              "    </tr>\n",
              "    <tr>\n",
              "      <th>392</th>\n",
              "      <td>PARADELO David</td>\n",
              "      <td>Canada</td>\n",
              "      <td>Water Polo</td>\n",
              "      <td>Women</td>\n",
              "    </tr>\n",
              "    <tr>\n",
              "      <th>393</th>\n",
              "      <td>POROBIC Petar</td>\n",
              "      <td>People's Republic of China</td>\n",
              "      <td>Water Polo</td>\n",
              "      <td>Women</td>\n",
              "    </tr>\n",
              "  </tbody>\n",
              "</table>\n",
              "<p>394 rows × 4 columns</p>\n",
              "</div>"
            ],
            "text/plain": [
              "                       Name  ...  Event\n",
              "0             BRUN Aristide  ...    NaN\n",
              "1         BURLANDO Giovanna  ...    NaN\n",
              "2             CHIARI Simona  ...    NaN\n",
              "3    CRESPI JAUME Margalida  ...    NaN\n",
              "4           DIDENKO Natalia  ...    NaN\n",
              "..                      ...  ...    ...\n",
              "389      MIHAILOVIC Predrag  ...  Women\n",
              "390       MOTOMIYA Makihiro  ...  Women\n",
              "391   OCA GAIA Miguel Angel  ...  Women\n",
              "392          PARADELO David  ...  Women\n",
              "393           POROBIC Petar  ...  Women\n",
              "\n",
              "[394 rows x 4 columns]"
            ]
          },
          "metadata": {},
          "execution_count": 13
        }
      ]
    },
    {
      "cell_type": "code",
      "source": [
        "medals_xlsx = pd.read_excel(\"/content/drive/MyDrive/KG Project/Medals.xlsx\")\n",
        "medals_xlsx"
      ],
      "metadata": {
        "colab": {
          "base_uri": "https://localhost:8080/",
          "height": 424
        },
        "id": "i1lKuE0L1sLi",
        "outputId": "0b2aafb4-9c0a-4262-e03e-97b8a19989dc"
      },
      "execution_count": 14,
      "outputs": [
        {
          "output_type": "execute_result",
          "data": {
            "text/html": [
              "<div>\n",
              "<style scoped>\n",
              "    .dataframe tbody tr th:only-of-type {\n",
              "        vertical-align: middle;\n",
              "    }\n",
              "\n",
              "    .dataframe tbody tr th {\n",
              "        vertical-align: top;\n",
              "    }\n",
              "\n",
              "    .dataframe thead th {\n",
              "        text-align: right;\n",
              "    }\n",
              "</style>\n",
              "<table border=\"1\" class=\"dataframe\">\n",
              "  <thead>\n",
              "    <tr style=\"text-align: right;\">\n",
              "      <th></th>\n",
              "      <th>Rank</th>\n",
              "      <th>Team/NOC</th>\n",
              "      <th>Gold</th>\n",
              "      <th>Silver</th>\n",
              "      <th>Bronze</th>\n",
              "      <th>Total</th>\n",
              "      <th>Rank by Total</th>\n",
              "    </tr>\n",
              "  </thead>\n",
              "  <tbody>\n",
              "    <tr>\n",
              "      <th>0</th>\n",
              "      <td>1</td>\n",
              "      <td>United States of America</td>\n",
              "      <td>39</td>\n",
              "      <td>41</td>\n",
              "      <td>33</td>\n",
              "      <td>113</td>\n",
              "      <td>1</td>\n",
              "    </tr>\n",
              "    <tr>\n",
              "      <th>1</th>\n",
              "      <td>2</td>\n",
              "      <td>People's Republic of China</td>\n",
              "      <td>38</td>\n",
              "      <td>32</td>\n",
              "      <td>18</td>\n",
              "      <td>88</td>\n",
              "      <td>2</td>\n",
              "    </tr>\n",
              "    <tr>\n",
              "      <th>2</th>\n",
              "      <td>3</td>\n",
              "      <td>Japan</td>\n",
              "      <td>27</td>\n",
              "      <td>14</td>\n",
              "      <td>17</td>\n",
              "      <td>58</td>\n",
              "      <td>5</td>\n",
              "    </tr>\n",
              "    <tr>\n",
              "      <th>3</th>\n",
              "      <td>4</td>\n",
              "      <td>Great Britain</td>\n",
              "      <td>22</td>\n",
              "      <td>21</td>\n",
              "      <td>22</td>\n",
              "      <td>65</td>\n",
              "      <td>4</td>\n",
              "    </tr>\n",
              "    <tr>\n",
              "      <th>4</th>\n",
              "      <td>5</td>\n",
              "      <td>ROC</td>\n",
              "      <td>20</td>\n",
              "      <td>28</td>\n",
              "      <td>23</td>\n",
              "      <td>71</td>\n",
              "      <td>3</td>\n",
              "    </tr>\n",
              "    <tr>\n",
              "      <th>...</th>\n",
              "      <td>...</td>\n",
              "      <td>...</td>\n",
              "      <td>...</td>\n",
              "      <td>...</td>\n",
              "      <td>...</td>\n",
              "      <td>...</td>\n",
              "      <td>...</td>\n",
              "    </tr>\n",
              "    <tr>\n",
              "      <th>88</th>\n",
              "      <td>86</td>\n",
              "      <td>Ghana</td>\n",
              "      <td>0</td>\n",
              "      <td>0</td>\n",
              "      <td>1</td>\n",
              "      <td>1</td>\n",
              "      <td>77</td>\n",
              "    </tr>\n",
              "    <tr>\n",
              "      <th>89</th>\n",
              "      <td>86</td>\n",
              "      <td>Grenada</td>\n",
              "      <td>0</td>\n",
              "      <td>0</td>\n",
              "      <td>1</td>\n",
              "      <td>1</td>\n",
              "      <td>77</td>\n",
              "    </tr>\n",
              "    <tr>\n",
              "      <th>90</th>\n",
              "      <td>86</td>\n",
              "      <td>Kuwait</td>\n",
              "      <td>0</td>\n",
              "      <td>0</td>\n",
              "      <td>1</td>\n",
              "      <td>1</td>\n",
              "      <td>77</td>\n",
              "    </tr>\n",
              "    <tr>\n",
              "      <th>91</th>\n",
              "      <td>86</td>\n",
              "      <td>Republic of Moldova</td>\n",
              "      <td>0</td>\n",
              "      <td>0</td>\n",
              "      <td>1</td>\n",
              "      <td>1</td>\n",
              "      <td>77</td>\n",
              "    </tr>\n",
              "    <tr>\n",
              "      <th>92</th>\n",
              "      <td>86</td>\n",
              "      <td>Syrian Arab Republic</td>\n",
              "      <td>0</td>\n",
              "      <td>0</td>\n",
              "      <td>1</td>\n",
              "      <td>1</td>\n",
              "      <td>77</td>\n",
              "    </tr>\n",
              "  </tbody>\n",
              "</table>\n",
              "<p>93 rows × 7 columns</p>\n",
              "</div>"
            ],
            "text/plain": [
              "    Rank                    Team/NOC  Gold  ...  Bronze  Total  Rank by Total\n",
              "0      1    United States of America    39  ...      33    113              1\n",
              "1      2  People's Republic of China    38  ...      18     88              2\n",
              "2      3                       Japan    27  ...      17     58              5\n",
              "3      4               Great Britain    22  ...      22     65              4\n",
              "4      5                         ROC    20  ...      23     71              3\n",
              "..   ...                         ...   ...  ...     ...    ...            ...\n",
              "88    86                       Ghana     0  ...       1      1             77\n",
              "89    86                     Grenada     0  ...       1      1             77\n",
              "90    86                      Kuwait     0  ...       1      1             77\n",
              "91    86         Republic of Moldova     0  ...       1      1             77\n",
              "92    86        Syrian Arab Republic     0  ...       1      1             77\n",
              "\n",
              "[93 rows x 7 columns]"
            ]
          },
          "metadata": {},
          "execution_count": 14
        }
      ]
    },
    {
      "cell_type": "code",
      "source": [
        "entriesgender_xlsx = pd.read_excel(\"/content/drive/MyDrive/KG Project/EntriesGender.xlsx\")\n",
        "entriesgender_xlsx"
      ],
      "metadata": {
        "colab": {
          "base_uri": "https://localhost:8080/",
          "height": 1000
        },
        "id": "8UjOj8ok1yvs",
        "outputId": "edce183c-c893-43b0-9ac7-231e5135a95c"
      },
      "execution_count": 15,
      "outputs": [
        {
          "output_type": "execute_result",
          "data": {
            "text/html": [
              "<div>\n",
              "<style scoped>\n",
              "    .dataframe tbody tr th:only-of-type {\n",
              "        vertical-align: middle;\n",
              "    }\n",
              "\n",
              "    .dataframe tbody tr th {\n",
              "        vertical-align: top;\n",
              "    }\n",
              "\n",
              "    .dataframe thead th {\n",
              "        text-align: right;\n",
              "    }\n",
              "</style>\n",
              "<table border=\"1\" class=\"dataframe\">\n",
              "  <thead>\n",
              "    <tr style=\"text-align: right;\">\n",
              "      <th></th>\n",
              "      <th>Discipline</th>\n",
              "      <th>Female</th>\n",
              "      <th>Male</th>\n",
              "      <th>Total</th>\n",
              "    </tr>\n",
              "  </thead>\n",
              "  <tbody>\n",
              "    <tr>\n",
              "      <th>0</th>\n",
              "      <td>3x3 Basketball</td>\n",
              "      <td>32</td>\n",
              "      <td>32</td>\n",
              "      <td>64</td>\n",
              "    </tr>\n",
              "    <tr>\n",
              "      <th>1</th>\n",
              "      <td>Archery</td>\n",
              "      <td>64</td>\n",
              "      <td>64</td>\n",
              "      <td>128</td>\n",
              "    </tr>\n",
              "    <tr>\n",
              "      <th>2</th>\n",
              "      <td>Artistic Gymnastics</td>\n",
              "      <td>98</td>\n",
              "      <td>98</td>\n",
              "      <td>196</td>\n",
              "    </tr>\n",
              "    <tr>\n",
              "      <th>3</th>\n",
              "      <td>Artistic Swimming</td>\n",
              "      <td>105</td>\n",
              "      <td>0</td>\n",
              "      <td>105</td>\n",
              "    </tr>\n",
              "    <tr>\n",
              "      <th>4</th>\n",
              "      <td>Athletics</td>\n",
              "      <td>969</td>\n",
              "      <td>1072</td>\n",
              "      <td>2041</td>\n",
              "    </tr>\n",
              "    <tr>\n",
              "      <th>5</th>\n",
              "      <td>Badminton</td>\n",
              "      <td>86</td>\n",
              "      <td>87</td>\n",
              "      <td>173</td>\n",
              "    </tr>\n",
              "    <tr>\n",
              "      <th>6</th>\n",
              "      <td>Baseball/Softball</td>\n",
              "      <td>90</td>\n",
              "      <td>144</td>\n",
              "      <td>234</td>\n",
              "    </tr>\n",
              "    <tr>\n",
              "      <th>7</th>\n",
              "      <td>Basketball</td>\n",
              "      <td>144</td>\n",
              "      <td>144</td>\n",
              "      <td>288</td>\n",
              "    </tr>\n",
              "    <tr>\n",
              "      <th>8</th>\n",
              "      <td>Beach Volleyball</td>\n",
              "      <td>48</td>\n",
              "      <td>48</td>\n",
              "      <td>96</td>\n",
              "    </tr>\n",
              "    <tr>\n",
              "      <th>9</th>\n",
              "      <td>Boxing</td>\n",
              "      <td>102</td>\n",
              "      <td>187</td>\n",
              "      <td>289</td>\n",
              "    </tr>\n",
              "    <tr>\n",
              "      <th>10</th>\n",
              "      <td>Canoe Slalom</td>\n",
              "      <td>41</td>\n",
              "      <td>41</td>\n",
              "      <td>82</td>\n",
              "    </tr>\n",
              "    <tr>\n",
              "      <th>11</th>\n",
              "      <td>Canoe Sprint</td>\n",
              "      <td>123</td>\n",
              "      <td>126</td>\n",
              "      <td>249</td>\n",
              "    </tr>\n",
              "    <tr>\n",
              "      <th>12</th>\n",
              "      <td>Cycling BMX Freestyle</td>\n",
              "      <td>10</td>\n",
              "      <td>9</td>\n",
              "      <td>19</td>\n",
              "    </tr>\n",
              "    <tr>\n",
              "      <th>13</th>\n",
              "      <td>Cycling BMX Racing</td>\n",
              "      <td>24</td>\n",
              "      <td>24</td>\n",
              "      <td>48</td>\n",
              "    </tr>\n",
              "    <tr>\n",
              "      <th>14</th>\n",
              "      <td>Cycling Mountain Bike</td>\n",
              "      <td>38</td>\n",
              "      <td>38</td>\n",
              "      <td>76</td>\n",
              "    </tr>\n",
              "    <tr>\n",
              "      <th>15</th>\n",
              "      <td>Cycling Road</td>\n",
              "      <td>70</td>\n",
              "      <td>131</td>\n",
              "      <td>201</td>\n",
              "    </tr>\n",
              "    <tr>\n",
              "      <th>16</th>\n",
              "      <td>Cycling Track</td>\n",
              "      <td>90</td>\n",
              "      <td>99</td>\n",
              "      <td>189</td>\n",
              "    </tr>\n",
              "    <tr>\n",
              "      <th>17</th>\n",
              "      <td>Diving</td>\n",
              "      <td>72</td>\n",
              "      <td>71</td>\n",
              "      <td>143</td>\n",
              "    </tr>\n",
              "    <tr>\n",
              "      <th>18</th>\n",
              "      <td>Equestrian</td>\n",
              "      <td>73</td>\n",
              "      <td>125</td>\n",
              "      <td>198</td>\n",
              "    </tr>\n",
              "    <tr>\n",
              "      <th>19</th>\n",
              "      <td>Fencing</td>\n",
              "      <td>107</td>\n",
              "      <td>108</td>\n",
              "      <td>215</td>\n",
              "    </tr>\n",
              "    <tr>\n",
              "      <th>20</th>\n",
              "      <td>Football</td>\n",
              "      <td>264</td>\n",
              "      <td>344</td>\n",
              "      <td>608</td>\n",
              "    </tr>\n",
              "    <tr>\n",
              "      <th>21</th>\n",
              "      <td>Golf</td>\n",
              "      <td>60</td>\n",
              "      <td>60</td>\n",
              "      <td>120</td>\n",
              "    </tr>\n",
              "    <tr>\n",
              "      <th>22</th>\n",
              "      <td>Handball</td>\n",
              "      <td>168</td>\n",
              "      <td>168</td>\n",
              "      <td>336</td>\n",
              "    </tr>\n",
              "    <tr>\n",
              "      <th>23</th>\n",
              "      <td>Hockey</td>\n",
              "      <td>192</td>\n",
              "      <td>192</td>\n",
              "      <td>384</td>\n",
              "    </tr>\n",
              "    <tr>\n",
              "      <th>24</th>\n",
              "      <td>Judo</td>\n",
              "      <td>192</td>\n",
              "      <td>201</td>\n",
              "      <td>393</td>\n",
              "    </tr>\n",
              "    <tr>\n",
              "      <th>25</th>\n",
              "      <td>Karate</td>\n",
              "      <td>40</td>\n",
              "      <td>42</td>\n",
              "      <td>82</td>\n",
              "    </tr>\n",
              "    <tr>\n",
              "      <th>26</th>\n",
              "      <td>Marathon Swimming</td>\n",
              "      <td>25</td>\n",
              "      <td>25</td>\n",
              "      <td>50</td>\n",
              "    </tr>\n",
              "    <tr>\n",
              "      <th>27</th>\n",
              "      <td>Modern Pentathlon</td>\n",
              "      <td>36</td>\n",
              "      <td>36</td>\n",
              "      <td>72</td>\n",
              "    </tr>\n",
              "    <tr>\n",
              "      <th>28</th>\n",
              "      <td>Rhythmic Gymnastics</td>\n",
              "      <td>96</td>\n",
              "      <td>0</td>\n",
              "      <td>96</td>\n",
              "    </tr>\n",
              "    <tr>\n",
              "      <th>29</th>\n",
              "      <td>Rowing</td>\n",
              "      <td>257</td>\n",
              "      <td>265</td>\n",
              "      <td>522</td>\n",
              "    </tr>\n",
              "    <tr>\n",
              "      <th>30</th>\n",
              "      <td>Rugby Sevens</td>\n",
              "      <td>146</td>\n",
              "      <td>151</td>\n",
              "      <td>297</td>\n",
              "    </tr>\n",
              "    <tr>\n",
              "      <th>31</th>\n",
              "      <td>Sailing</td>\n",
              "      <td>175</td>\n",
              "      <td>175</td>\n",
              "      <td>350</td>\n",
              "    </tr>\n",
              "    <tr>\n",
              "      <th>32</th>\n",
              "      <td>Shooting</td>\n",
              "      <td>178</td>\n",
              "      <td>178</td>\n",
              "      <td>356</td>\n",
              "    </tr>\n",
              "    <tr>\n",
              "      <th>33</th>\n",
              "      <td>Skateboarding</td>\n",
              "      <td>40</td>\n",
              "      <td>40</td>\n",
              "      <td>80</td>\n",
              "    </tr>\n",
              "    <tr>\n",
              "      <th>34</th>\n",
              "      <td>Sport Climbing</td>\n",
              "      <td>20</td>\n",
              "      <td>20</td>\n",
              "      <td>40</td>\n",
              "    </tr>\n",
              "    <tr>\n",
              "      <th>35</th>\n",
              "      <td>Surfing</td>\n",
              "      <td>20</td>\n",
              "      <td>20</td>\n",
              "      <td>40</td>\n",
              "    </tr>\n",
              "    <tr>\n",
              "      <th>36</th>\n",
              "      <td>Swimming</td>\n",
              "      <td>361</td>\n",
              "      <td>418</td>\n",
              "      <td>779</td>\n",
              "    </tr>\n",
              "    <tr>\n",
              "      <th>37</th>\n",
              "      <td>Table Tennis</td>\n",
              "      <td>86</td>\n",
              "      <td>86</td>\n",
              "      <td>172</td>\n",
              "    </tr>\n",
              "    <tr>\n",
              "      <th>38</th>\n",
              "      <td>Taekwondo</td>\n",
              "      <td>65</td>\n",
              "      <td>65</td>\n",
              "      <td>130</td>\n",
              "    </tr>\n",
              "    <tr>\n",
              "      <th>39</th>\n",
              "      <td>Tennis</td>\n",
              "      <td>94</td>\n",
              "      <td>97</td>\n",
              "      <td>191</td>\n",
              "    </tr>\n",
              "    <tr>\n",
              "      <th>40</th>\n",
              "      <td>Trampoline Gymnastics</td>\n",
              "      <td>16</td>\n",
              "      <td>16</td>\n",
              "      <td>32</td>\n",
              "    </tr>\n",
              "    <tr>\n",
              "      <th>41</th>\n",
              "      <td>Triathlon</td>\n",
              "      <td>55</td>\n",
              "      <td>55</td>\n",
              "      <td>110</td>\n",
              "    </tr>\n",
              "    <tr>\n",
              "      <th>42</th>\n",
              "      <td>Volleyball</td>\n",
              "      <td>144</td>\n",
              "      <td>144</td>\n",
              "      <td>288</td>\n",
              "    </tr>\n",
              "    <tr>\n",
              "      <th>43</th>\n",
              "      <td>Water Polo</td>\n",
              "      <td>122</td>\n",
              "      <td>146</td>\n",
              "      <td>268</td>\n",
              "    </tr>\n",
              "    <tr>\n",
              "      <th>44</th>\n",
              "      <td>Weightlifting</td>\n",
              "      <td>98</td>\n",
              "      <td>99</td>\n",
              "      <td>197</td>\n",
              "    </tr>\n",
              "    <tr>\n",
              "      <th>45</th>\n",
              "      <td>Wrestling</td>\n",
              "      <td>96</td>\n",
              "      <td>193</td>\n",
              "      <td>289</td>\n",
              "    </tr>\n",
              "  </tbody>\n",
              "</table>\n",
              "</div>"
            ],
            "text/plain": [
              "               Discipline  Female  Male  Total\n",
              "0          3x3 Basketball      32    32     64\n",
              "1                 Archery      64    64    128\n",
              "2     Artistic Gymnastics      98    98    196\n",
              "3       Artistic Swimming     105     0    105\n",
              "4               Athletics     969  1072   2041\n",
              "5               Badminton      86    87    173\n",
              "6       Baseball/Softball      90   144    234\n",
              "7              Basketball     144   144    288\n",
              "8        Beach Volleyball      48    48     96\n",
              "9                  Boxing     102   187    289\n",
              "10           Canoe Slalom      41    41     82\n",
              "11           Canoe Sprint     123   126    249\n",
              "12  Cycling BMX Freestyle      10     9     19\n",
              "13     Cycling BMX Racing      24    24     48\n",
              "14  Cycling Mountain Bike      38    38     76\n",
              "15           Cycling Road      70   131    201\n",
              "16          Cycling Track      90    99    189\n",
              "17                 Diving      72    71    143\n",
              "18             Equestrian      73   125    198\n",
              "19                Fencing     107   108    215\n",
              "20               Football     264   344    608\n",
              "21                   Golf      60    60    120\n",
              "22               Handball     168   168    336\n",
              "23                 Hockey     192   192    384\n",
              "24                   Judo     192   201    393\n",
              "25                 Karate      40    42     82\n",
              "26      Marathon Swimming      25    25     50\n",
              "27      Modern Pentathlon      36    36     72\n",
              "28    Rhythmic Gymnastics      96     0     96\n",
              "29                 Rowing     257   265    522\n",
              "30           Rugby Sevens     146   151    297\n",
              "31                Sailing     175   175    350\n",
              "32               Shooting     178   178    356\n",
              "33          Skateboarding      40    40     80\n",
              "34         Sport Climbing      20    20     40\n",
              "35                Surfing      20    20     40\n",
              "36               Swimming     361   418    779\n",
              "37           Table Tennis      86    86    172\n",
              "38              Taekwondo      65    65    130\n",
              "39                 Tennis      94    97    191\n",
              "40  Trampoline Gymnastics      16    16     32\n",
              "41              Triathlon      55    55    110\n",
              "42             Volleyball     144   144    288\n",
              "43             Water Polo     122   146    268\n",
              "44          Weightlifting      98    99    197\n",
              "45              Wrestling      96   193    289"
            ]
          },
          "metadata": {},
          "execution_count": 15
        }
      ]
    },
    {
      "cell_type": "code",
      "source": [
        "olympic_medal_player_xlsx = pd.read_excel(\"/content/drive/MyDrive/KG Project/olympic_medal_player.xlsx\")\n",
        "olympic_medal_player_xlsx"
      ],
      "metadata": {
        "colab": {
          "base_uri": "https://localhost:8080/",
          "height": 424
        },
        "id": "LDnhlGt116ho",
        "outputId": "bc235908-3d31-4f27-a544-fc423be1dd3a"
      },
      "execution_count": 16,
      "outputs": [
        {
          "output_type": "execute_result",
          "data": {
            "text/html": [
              "<div>\n",
              "<style scoped>\n",
              "    .dataframe tbody tr th:only-of-type {\n",
              "        vertical-align: middle;\n",
              "    }\n",
              "\n",
              "    .dataframe tbody tr th {\n",
              "        vertical-align: top;\n",
              "    }\n",
              "\n",
              "    .dataframe thead th {\n",
              "        text-align: right;\n",
              "    }\n",
              "</style>\n",
              "<table border=\"1\" class=\"dataframe\">\n",
              "  <thead>\n",
              "    <tr style=\"text-align: right;\">\n",
              "      <th></th>\n",
              "      <th>NOC</th>\n",
              "      <th>Name</th>\n",
              "      <th>Sport</th>\n",
              "      <th>Event</th>\n",
              "      <th>Medal</th>\n",
              "    </tr>\n",
              "  </thead>\n",
              "  <tbody>\n",
              "    <tr>\n",
              "      <th>0</th>\n",
              "      <td>People's Republic of China</td>\n",
              "      <td>ZOU Jingyuan</td>\n",
              "      <td>GAR</td>\n",
              "      <td>Men's Parallel Bars</td>\n",
              "      <td>1</td>\n",
              "    </tr>\n",
              "    <tr>\n",
              "      <th>1</th>\n",
              "      <td>People's Republic of China</td>\n",
              "      <td>LIU Yang</td>\n",
              "      <td>GAR</td>\n",
              "      <td>Men's Rings</td>\n",
              "      <td>1</td>\n",
              "    </tr>\n",
              "    <tr>\n",
              "      <th>2</th>\n",
              "      <td>People's Republic of China</td>\n",
              "      <td>GUAN Chenchen</td>\n",
              "      <td>GAR</td>\n",
              "      <td>Women's Balance Beam</td>\n",
              "      <td>1</td>\n",
              "    </tr>\n",
              "    <tr>\n",
              "      <th>3</th>\n",
              "      <td>People's Republic of China</td>\n",
              "      <td>LIU Shiying</td>\n",
              "      <td>ATH</td>\n",
              "      <td>Women's Javelin Throw</td>\n",
              "      <td>1</td>\n",
              "    </tr>\n",
              "    <tr>\n",
              "      <th>4</th>\n",
              "      <td>People's Republic of China</td>\n",
              "      <td>GONG Lijiao</td>\n",
              "      <td>ATH</td>\n",
              "      <td>Women's Shot Put</td>\n",
              "      <td>1</td>\n",
              "    </tr>\n",
              "    <tr>\n",
              "      <th>...</th>\n",
              "      <td>...</td>\n",
              "      <td>...</td>\n",
              "      <td>...</td>\n",
              "      <td>...</td>\n",
              "      <td>...</td>\n",
              "    </tr>\n",
              "    <tr>\n",
              "      <th>910</th>\n",
              "      <td>Kyrgyzstan</td>\n",
              "      <td>ZHUMANAZAROVA Meerim</td>\n",
              "      <td>WRE</td>\n",
              "      <td>Women's Freestyle 68kg</td>\n",
              "      <td>3</td>\n",
              "    </tr>\n",
              "    <tr>\n",
              "      <th>911</th>\n",
              "      <td>Armenia</td>\n",
              "      <td>DAVTYAN Artur</td>\n",
              "      <td>GAR</td>\n",
              "      <td>Men's Vault</td>\n",
              "      <td>3</td>\n",
              "    </tr>\n",
              "    <tr>\n",
              "      <th>912</th>\n",
              "      <td>Armenia</td>\n",
              "      <td>BACHKOV Hovhannes</td>\n",
              "      <td>BOX</td>\n",
              "      <td>Men's Light (57-63kg)</td>\n",
              "      <td>3</td>\n",
              "    </tr>\n",
              "    <tr>\n",
              "      <th>913</th>\n",
              "      <td>Armenia</td>\n",
              "      <td>MARTIROSYAN Simon</td>\n",
              "      <td>WLF</td>\n",
              "      <td>Men's 109kg</td>\n",
              "      <td>2</td>\n",
              "    </tr>\n",
              "    <tr>\n",
              "      <th>914</th>\n",
              "      <td>Armenia</td>\n",
              "      <td>ALEKSANYAN Artur</td>\n",
              "      <td>WRE</td>\n",
              "      <td>Men's Greco-Roman 97kg</td>\n",
              "      <td>2</td>\n",
              "    </tr>\n",
              "  </tbody>\n",
              "</table>\n",
              "<p>915 rows × 5 columns</p>\n",
              "</div>"
            ],
            "text/plain": [
              "                            NOC  ... Medal\n",
              "0    People's Republic of China  ...     1\n",
              "1    People's Republic of China  ...     1\n",
              "2    People's Republic of China  ...     1\n",
              "3    People's Republic of China  ...     1\n",
              "4    People's Republic of China  ...     1\n",
              "..                          ...  ...   ...\n",
              "910                  Kyrgyzstan  ...     3\n",
              "911                     Armenia  ...     3\n",
              "912                     Armenia  ...     3\n",
              "913                     Armenia  ...     2\n",
              "914                     Armenia  ...     2\n",
              "\n",
              "[915 rows x 5 columns]"
            ]
          },
          "metadata": {},
          "execution_count": 16
        }
      ]
    },
    {
      "cell_type": "markdown",
      "metadata": {
        "id": "WO33ZDOwxp4V"
      },
      "source": [
        "Mapping the dataset onto our ontology"
      ]
    },
    {
      "cell_type": "code",
      "metadata": {
        "id": "ZgZdJoaCzDT6"
      },
      "source": [
        "name_set = set()\n",
        "noc_set = set()\n",
        "discipline_set = set()\n",
        "team_set =  set()\n",
        "event_set = set()\n",
        "noc_set = set()\n",
        "coach_name_set = set()\n",
        "team_names_dict = {}\n",
        "coach_name_dict = {}\n",
        "noc_dict = {}\n",
        "displicine_dict = {}\n",
        "getclass = list(onto_olympics.classes())\n",
        "obj_prop = list(onto_olympics.object_properties())\n",
        "data_prop = list(onto_olympics.data_properties())\n",
        "# making sure there are no instances before adding any in athletes class \n",
        "# for indiv in getclass[0].instances():\n",
        "#     destroy_entity(indiv)\n",
        "# getclass[0].instances() \n",
        "\n",
        "# for i in getclass[5].instances():\n",
        "#   destroy_entity(i)\n",
        "# getclass[3].instances\n",
        "\n"
      ],
      "execution_count": 17,
      "outputs": []
    },
    {
      "cell_type": "markdown",
      "source": [
        "Adding Athlete"
      ],
      "metadata": {
        "id": "kny5KtPFhZki"
      }
    },
    {
      "cell_type": "code",
      "source": [
        "with onto_olympics:\n",
        "  for index, row in (athletes_xlsx.sample(n = 11062 , random_state = 1).iterrows()):\n",
        "    a_names = row['Name']\n",
        "    a_names = a_names.replace(' ', '_')\n",
        "    a_NOC = row['NOC']\n",
        "    a_NOC = a_NOC.replace(' ','_')\n",
        "    a_disp= row['Discipline']\n",
        "    a_disp = a_disp.replace(' ','_')\n",
        "\n",
        "    ath_name = Thing(a_names)\n",
        "    ath_disp = Thing(a_disp)\n",
        "    displicine_dict[a_disp] = ath_disp\n",
        "    # team_names_dict[concat_all] = t_name\n",
        "    ath_noc = Thing(a_NOC)\n",
        "    noc_dict[a_NOC]= ath_noc\n",
        "\n",
        "    #object properties\n",
        "    playsDiscipline = obj_prop[7]\n",
        "    athletePlaysForNOC = obj_prop[0]\n",
        "\n",
        "    print(obj_prop[7])\n",
        "\n",
        "    ath_name.playsDiscipline.append(ath_disp)\n",
        "    ath_name.athletePlaysForNOC.append(ath_noc)"
      ],
      "metadata": {
        "id": "efmetnQUhbO8"
      },
      "execution_count": null,
      "outputs": []
    },
    {
      "cell_type": "markdown",
      "source": [
        "Adding all the teams in the Team Class as instances"
      ],
      "metadata": {
        "id": "B3X3bHQNjHvI"
      }
    },
    {
      "cell_type": "code",
      "source": [
        "with onto_olympics:\n",
        "\n",
        "  for index, row in (teams_xlsx.sample(n = 743 , random_state = 1).iterrows()):\n",
        "    teams_name = row['Name']\n",
        "    teams_discipline = row['Discipline']\n",
        "    teams_event = row['Event']\n",
        "    teams_noc = row['NOC']      \n",
        "    teams_name = teams_name.replace(' ', '_')\n",
        "    teams_discipline = teams_discipline.replace(' ', '_')\n",
        "    teams_event = teams_event.replace(' ', '_')\n",
        "    teams_noc = teams_noc.replace(' ', '_')\n",
        "\n",
        "    concat_all = \"Team_\" + teams_noc  + \"_\" + teams_event + \"_\" + teams_discipline\n",
        "    # Men = getclass[5](\"Men\")\n",
        "    playsCategory = obj_prop[14] # playsCategory object property\n",
        "    teamPlaysDiscipline = obj_prop[9]\n",
        "    teamCoachedBy = obj_prop[5]\n",
        "    teamPlaysForNOC = obj_prop[16]\n",
        "    teamName = data_prop[4]\n",
        "\n",
        "    # print(playsCategory)\n",
        "\n",
        "    discipline_set.add(teams_discipline)\n",
        "    event_set.add(teams_event)\n",
        "    team_set.add(concat_all)\n",
        "    noc_set.add(teams_noc)\n",
        "\n",
        "\n",
        "    # getclass[5].instances()\n",
        "    # if concat_all in team_dict:\n",
        "    #   print(f\"{teams} already exists\")\n",
        "\n",
        "    # if teams_event in event_dict:\n",
        "    #   print(f\"{teams_event} already exists\")\n",
        "    \n",
        "\n",
        "    t_name= Thing(concat_all)\n",
        "    team_names_dict[concat_all] = t_name\n",
        "    \n",
        "    # d_name= Thing(teams_discipline)\n",
        "    # noc_name= Thing(teams_noc)\n",
        "\n",
        "    t_name.teamPlaysDiscipline.append(displicine_dict[teams_discipline])\n",
        "    t_name.teamPlaysForNOC.append(noc_dict[teams_noc])\n",
        "    t_name.teamName = [teams_name]\n",
        "\n",
        "    e_name= Thing(teams_event)\n",
        "    t_name.playsCategory.append(e_name)\n",
        "    print(teams_event)\n",
        "     \n"
      ],
      "metadata": {
        "id": "aPCrGuWiBRDf"
      },
      "execution_count": null,
      "outputs": []
    },
    {
      "cell_type": "markdown",
      "source": [
        "Adding coaches to owl thing"
      ],
      "metadata": {
        "id": "f6pg7j2GbbAw"
      }
    },
    {
      "cell_type": "code",
      "source": [
        "event_dict = {}\n",
        "with onto_olympics: \n",
        "  for index, row in (coaches_xlsx.sample(n = 381 , random_state = 1).iterrows()):\n",
        "    coach_name = row['Name']\n",
        "    coach_name = coach_name.replace(' ', '_')\n",
        "    coach_noc = row['NOC']\n",
        "    coach_noc = coach_noc.replace(' ', '_')\n",
        "    coach_disp = row['Discipline']\n",
        "    coach_disp = coach_disp.replace(' ', '_')\n",
        "    coach_event = row['Event']\n",
        "    if (not isinstance(coach_event,float)):\n",
        "      coach_event = coach_event.replace(' ', '_')\n",
        "\n",
        "      coach_concat = \"Team_\" + coach_noc  + \"_\" + coach_event + \"_\" + coach_disp\n",
        "\n",
        "      # get_name= team_names_dict[coach_concat]\n",
        "   \n",
        "      c_name = Thing(coach_name)\n",
        "      coachesDisp = obj_prop[1]\n",
        "      coachesTeam = obj_prop[4]\n",
        "      coachesForNOC = obj_prop[3]\n",
        "\n",
        "      c_name.coachesDiscipline.append(displicine_dict[coach_disp])\n",
        "      c_name.coachesTeam.append(team_names_dict[coach_concat])\n",
        "      c_name.coachesForNOC.append(noc_dict[coach_noc])\n",
        "\n",
        "    # coach_concat = \"Team_\" + coach_noc  + \"_\" + coach_event + \"_\" + coach_disp\n",
        "\n",
        "    # get_name= team_names_dict[coach_concat]\n",
        "    # if(get_name):\n",
        "    #   c_name = Thing(coach_name)\n",
        "    #   coachesDiscipline = obj_prop[1]\n",
        "    #   coachesTeam = obj_prop[4]\n",
        "    #   coachesForNOC = obj_prop[3]\n",
        "\n",
        "    \n",
        "\n",
        "  "
      ],
      "metadata": {
        "id": "HMSHjmnKbant",
        "colab": {
          "base_uri": "https://localhost:8080/",
          "height": 245
        },
        "outputId": "ebe18bc6-6d32-4a95-b4d4-7cf3ac0cf8cc"
      },
      "execution_count": 23,
      "outputs": [
        {
          "output_type": "error",
          "ename": "AttributeError",
          "evalue": "ignored",
          "traceback": [
            "\u001b[0;31m---------------------------------------------------------------------------\u001b[0m",
            "\u001b[0;31mAttributeError\u001b[0m                            Traceback (most recent call last)",
            "\u001b[0;32m<ipython-input-23-a60708b57a70>\u001b[0m in \u001b[0;36m<module>\u001b[0;34m()\u001b[0m\n\u001b[1;32m     22\u001b[0m \u001b[0;34m\u001b[0m\u001b[0m\n\u001b[1;32m     23\u001b[0m       \u001b[0mc_name\u001b[0m\u001b[0;34m.\u001b[0m\u001b[0mcoachesDiscipline\u001b[0m\u001b[0;34m.\u001b[0m\u001b[0mappend\u001b[0m\u001b[0;34m(\u001b[0m\u001b[0mdisplicine_dict\u001b[0m\u001b[0;34m[\u001b[0m\u001b[0mcoach_disp\u001b[0m\u001b[0;34m]\u001b[0m\u001b[0;34m)\u001b[0m\u001b[0;34m\u001b[0m\u001b[0;34m\u001b[0m\u001b[0m\n\u001b[0;32m---> 24\u001b[0;31m       \u001b[0mc_name\u001b[0m\u001b[0;34m.\u001b[0m\u001b[0mcoachesTeam\u001b[0m\u001b[0;34m.\u001b[0m\u001b[0mappend\u001b[0m\u001b[0;34m(\u001b[0m\u001b[0mteam_names_dict\u001b[0m\u001b[0;34m[\u001b[0m\u001b[0mcoach_concat\u001b[0m\u001b[0;34m]\u001b[0m\u001b[0;34m)\u001b[0m\u001b[0;34m\u001b[0m\u001b[0;34m\u001b[0m\u001b[0m\n\u001b[0m\u001b[1;32m     25\u001b[0m       \u001b[0mc_name\u001b[0m\u001b[0;34m.\u001b[0m\u001b[0mcoachesForNOC\u001b[0m\u001b[0;34m.\u001b[0m\u001b[0mappend\u001b[0m\u001b[0;34m(\u001b[0m\u001b[0mnoc_dict\u001b[0m\u001b[0;34m[\u001b[0m\u001b[0mcoach_noc\u001b[0m\u001b[0;34m]\u001b[0m\u001b[0;34m)\u001b[0m\u001b[0;34m\u001b[0m\u001b[0;34m\u001b[0m\u001b[0m\n\u001b[1;32m     26\u001b[0m \u001b[0;34m\u001b[0m\u001b[0m\n",
            "\u001b[0;31mAttributeError\u001b[0m: 'NoneType' object has no attribute 'append'"
          ]
        }
      ]
    },
    {
      "cell_type": "code",
      "metadata": {
        "colab": {
          "base_uri": "https://localhost:8080/"
        },
        "id": "m8nqokdJ1FTP",
        "outputId": "c8cf513c-7832-4571-f189-a1dbaee08c13"
      },
      "source": [
        "# for i in getclass[0].instances():\n",
        "#   print(i)\n",
        "\n",
        "get_category_instances = getclass[5].instances()\n",
        "get_category_instances\n",
        "# len(getclass[3].instances())"
      ],
      "execution_count": null,
      "outputs": [
        {
          "output_type": "execute_result",
          "data": {
            "text/plain": [
              "[ASMR_3.Team,\n",
              " ASMR_3.Men,\n",
              " ASMR_3.Men's,\n",
              " ASMR_3.4_x_400m_Relay_Mixed,\n",
              " ASMR_3.Baseball,\n",
              " ASMR_3.Mixed_Relay,\n",
              " ASMR_3.Women's_Madison,\n",
              " ASMR_3.Group_All-Around,\n",
              " ASMR_3.Women,\n",
              " ASMR_3.Mixed_Team,\n",
              " ASMR_3.Men's_Madison,\n",
              " ASMR_3.Men's_4_x_200m_Freestyle_Relay,\n",
              " ASMR_3.Women's_Team,\n",
              " ASMR_3.Men's_Team,\n",
              " ASMR_3.Women's_4_x_400m_Relay,\n",
              " ASMR_3.Men's_4_x_100m_Medley_Relay,\n",
              " ASMR_3.Men's_Épée_Team,\n",
              " ASMR_3.Women's_4_x_100m_Freestyle_Relay,\n",
              " ASMR_3.Men's_4_x_100m_Freestyle_Relay,\n",
              " ASMR_3.Mixed_Doubles,\n",
              " ASMR_3.Men's_4_x_400m_Relay,\n",
              " ASMR_3.Duet,\n",
              " ASMR_3.Women's_4_x_100m_Relay,\n",
              " ASMR_3.Women's_Foil_Team,\n",
              " ASMR_3.Women's_Épée_Team,\n",
              " ASMR_3.Women's_4_x_200m_Freestyle_Relay,\n",
              " ASMR_3.Women's_Sabre_Team,\n",
              " ASMR_3.Men's_Sabre_Team,\n",
              " ASMR_3.Men's_Team_Sprint,\n",
              " ASMR_3.Mixed_4_x_100m_Medley_Relay,\n",
              " ASMR_3.Women's_4_x_100m_Medley_Relay,\n",
              " ASMR_3.Women's_Team_Sprint,\n",
              " ASMR_3.Men's_4_x_100m_Relay,\n",
              " ASMR_3.Softball]"
            ]
          },
          "metadata": {},
          "execution_count": 21
        }
      ]
    },
    {
      "cell_type": "code",
      "source": [
        "team_instances = []\n",
        "team_instances = getclass[4].instances()\n",
        "print(team_instances)\n",
        "# obj_prop[7]"
      ],
      "metadata": {
        "colab": {
          "base_uri": "https://localhost:8080/"
        },
        "id": "pASjWQ_r7I-i",
        "outputId": "03b23f84-93d8-4257-8e91-c39bc6a2c154"
      },
      "execution_count": null,
      "outputs": [
        {
          "output_type": "stream",
          "name": "stdout",
          "text": [
            "[]\n"
          ]
        }
      ]
    },
    {
      "cell_type": "code",
      "source": [
        "Men = getclass[4](\"Men\")\n",
        "playsCategory = obj_prop[14] # playsCategory object property\n",
        "# getclass[5].instances()\n",
        "x = Men.playsCategory\n",
        "print(Men.playsCategory)\n",
        "# x.append(Men)"
      ],
      "metadata": {
        "id": "T-h9J1st7R60",
        "colab": {
          "base_uri": "https://localhost:8080/"
        },
        "outputId": "89981120-9348-4539-9ab1-3a9e1bc76fba"
      },
      "execution_count": null,
      "outputs": [
        {
          "output_type": "stream",
          "name": "stdout",
          "text": [
            "None\n"
          ]
        }
      ]
    },
    {
      "cell_type": "code",
      "source": [
        "# for instance in get_category_instances:\n",
        "#   for word in instance:\n",
        "#     print(word)"
      ],
      "metadata": {
        "id": "X4MmdnwzmEtp"
      },
      "execution_count": null,
      "outputs": []
    },
    {
      "cell_type": "code",
      "source": [
        "print(team_instances[1].playsCategory)"
      ],
      "metadata": {
        "colab": {
          "base_uri": "https://localhost:8080/"
        },
        "id": "irjOuATi7YLY",
        "outputId": "75e0237a-ea47-40d5-86e8-5f7bb9943c96"
      },
      "execution_count": null,
      "outputs": [
        {
          "output_type": "stream",
          "name": "stdout",
          "text": [
            "[]\n"
          ]
        }
      ]
    },
    {
      "cell_type": "code",
      "metadata": {
        "id": "zKSqpsaO2Ac_"
      },
      "source": [
        "onto_olympics.save(file=\"ASMR11.0.owl\")"
      ],
      "execution_count": 24,
      "outputs": []
    },
    {
      "cell_type": "code",
      "source": [
        ""
      ],
      "metadata": {
        "colab": {
          "base_uri": "https://localhost:8080/"
        },
        "id": "YLgYljqtZUor",
        "outputId": "e5f9b405-5255-43d9-b885-b2f451bcceea"
      },
      "execution_count": null,
      "outputs": [
        {
          "output_type": "stream",
          "name": "stdout",
          "text": [
            "33\n"
          ]
        }
      ]
    }
  ]
}